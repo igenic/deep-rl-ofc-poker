{
 "cells": [
  {
   "cell_type": "code",
   "execution_count": 9,
   "metadata": {},
   "outputs": [],
   "source": [
    "import numpy as np\n",
    "\n",
    "from rlofc.ofc_board import OFCBoard\n",
    "from rlofc.ofc_environment import OFCEnvironment\n",
    "from rlofc.ofc_agent import OFCRandomAgent, OFCHumanAgent\n",
    "from rlofc.deck_generator import DeckGenerator"
   ]
  },
  {
   "cell_type": "code",
   "execution_count": 10,
   "metadata": {},
   "outputs": [
    {
     "name": "stdout",
     "output_type": "stream",
     "text": [
      "Front:\n",
      " [T\u001b[31m♥\u001b[0m],[9\u001b[31m♥\u001b[0m],[2♣] \n",
      "Mid:\n",
      " [5♣],[6♣],[2\u001b[31m♥\u001b[0m],[T♠],[A♣] \n",
      "Back:\n",
      " [J♠],[J\u001b[31m♥\u001b[0m],[7♠],[K\u001b[31m♦\u001b[0m],[A\u001b[31m♥\u001b[0m] \n"
     ]
    }
   ],
   "source": [
    "agent = OFCRandomAgent()\n",
    "deck = DeckGenerator.new_deck()\n",
    "board = OFCBoard()\n",
    "\n",
    "for i in range(13):\n",
    "    draw = deck.pop()\n",
    "    street_id = agent.place_new_card(draw, board)\n",
    "    board.place_card_by_id(draw, street_id)\n",
    "\n",
    "board.pretty()\n",
    "assert board.is_complete(), \"something's wrong\""
   ]
  },
  {
   "cell_type": "code",
   "execution_count": 11,
   "metadata": {},
   "outputs": [
    {
     "name": "stdout",
     "output_type": "stream",
     "text": [
      "0\n",
      "Front:\n",
      " [9\u001b[31m♥\u001b[0m],[A\u001b[31m♥\u001b[0m],[4♠] \n",
      "Mid:\n",
      " [7♣],[2♣],[4\u001b[31m♥\u001b[0m],[K\u001b[31m♥\u001b[0m],[9\u001b[31m♦\u001b[0m] \n",
      "Back:\n",
      " [Q♣],[3♣],[4\u001b[31m♦\u001b[0m],[8\u001b[31m♥\u001b[0m],[5♠] \n",
      "Front:\n",
      " [J\u001b[31m♦\u001b[0m],[6\u001b[31m♦\u001b[0m],[3♠] \n",
      "Mid:\n",
      " [A♣],[8\u001b[31m♦\u001b[0m],[8♣],[Q\u001b[31m♦\u001b[0m],[6♣] \n",
      "Back:\n",
      " [J♣],[7♠],[K\u001b[31m♦\u001b[0m],[Q\u001b[31m♥\u001b[0m],[3\u001b[31m♥\u001b[0m] \n"
     ]
    }
   ],
   "source": [
    "lhs = OFCRandomAgent()\n",
    "rhs = OFCRandomAgent()\n",
    "\n",
    "ofc_game = OFCEnvironment(lhs, rhs)\n",
    "\n",
    "score, lhs_board, rhs_board = ofc_game.play_game()\n",
    "print (score)\n",
    "lhs_board.pretty()\n",
    "rhs_board.pretty()\n",
    "assert type(score) is int"
   ]
  },
  {
   "cell_type": "code",
   "execution_count": 12,
   "metadata": {},
   "outputs": [],
   "source": [
    "lhs = OFCHumanAgent('Andrew')\n",
    "rhs = OFCRandomAgent()\n",
    "\n",
    "ofc_game = OFCEnvironment(lhs, rhs)\n",
    "\n",
    "score, lhs_board, rhs_board = ofc_game.play_game_human_cpu()"
   ]
  },
  {
   "cell_type": "code",
   "execution_count": 7,
   "metadata": {},
   "outputs": [
    {
     "data": {
      "text/plain": [
       "array([0.78986046, 0.81462608, 0.02164248])"
      ]
     },
     "execution_count": 7,
     "metadata": {},
     "output_type": "execute_result"
    }
   ],
   "source": [
    "np.random.uniform(0, 1, 3)"
   ]
  },
  {
   "cell_type": "code",
   "execution_count": 8,
   "metadata": {},
   "outputs": [
    {
     "data": {
      "text/plain": [
       "(array([], dtype=int64),)"
      ]
     },
     "execution_count": 8,
     "metadata": {},
     "output_type": "execute_result"
    }
   ],
   "source": [
    "np.where([0, 1, 1] == 0)"
   ]
  },
  {
   "cell_type": "code",
   "execution_count": 9,
   "metadata": {},
   "outputs": [
    {
     "data": {
      "text/plain": [
       "0"
      ]
     },
     "execution_count": 9,
     "metadata": {},
     "output_type": "execute_result"
    }
   ],
   "source": [
    "np.argmax([0, 0, 0])"
   ]
  },
  {
   "cell_type": "code",
   "execution_count": null,
   "metadata": {
    "collapsed": true,
    "jupyter": {
     "outputs_hidden": true
    }
   },
   "outputs": [],
   "source": []
  }
 ],
 "metadata": {
  "kernelspec": {
   "display_name": "Python 3",
   "language": "python",
   "name": "python3"
  },
  "language_info": {
   "codemirror_mode": {
    "name": "ipython",
    "version": 3
   },
   "file_extension": ".py",
   "mimetype": "text/x-python",
   "name": "python",
   "nbconvert_exporter": "python",
   "pygments_lexer": "ipython3",
   "version": "3.6.10"
  }
 },
 "nbformat": 4,
 "nbformat_minor": 4
}
